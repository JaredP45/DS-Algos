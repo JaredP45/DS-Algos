{
 "cells": [
  {
   "cell_type": "code",
   "execution_count": 30,
   "metadata": {},
   "outputs": [
    {
     "name": "stdout",
     "output_type": "stream",
     "text": [
      "False\n",
      "Execution time in seconds: 0.0\n"
     ]
    }
   ],
   "source": [
    "import time\n",
    "\n",
    "startTime = time.time()\n",
    "\n",
    "\n",
    "# Bineary Search\n",
    "def binary_search(a_list, n):\n",
    "    first = 0\n",
    "    last = len(a_list) - 1\n",
    "    \n",
    "    while last >= first:\n",
    "        mid = (first + last) // 2\n",
    "        if a_list[mid] == n:\n",
    "            return True\n",
    "        else:\n",
    "            if n < a_list[mid]:\n",
    "                last = mid - 1\n",
    "            else:\n",
    "                first = mid + 1\n",
    "    return False\n",
    "\n",
    "myList = [1,5,7,8,12,16,21]\n",
    "\n",
    "print(binary_search(myList, 2))\n",
    "\n",
    "executionTime = (time.time() - startTime)\n",
    "print('Execution time in seconds: ' + str(executionTime))"
   ]
  },
  {
   "cell_type": "code",
   "execution_count": 32,
   "metadata": {},
   "outputs": [
    {
     "name": "stdout",
     "output_type": "stream",
     "text": [
      "1307674368000\n",
      "Execution time in seconds: 0.0010013580322265625\n"
     ]
    }
   ],
   "source": [
    "import time\n",
    "\n",
    "startTime = time.time()\n",
    "\n",
    "\n",
    "# Recursion\n",
    "def factorial(n):\n",
    "    if n == 0:\n",
    "        return 1\n",
    "    return n * factorial(n - 1)\n",
    "\n",
    "myNum = 15\n",
    "\n",
    "print(factorial(myNum))\n",
    "\n",
    "executionTime = (time.time() - startTime)\n",
    "print('Execution time in seconds: ' + str(executionTime))"
   ]
  },
  {
   "cell_type": "code",
   "execution_count": 35,
   "metadata": {},
   "outputs": [
    {
     "name": "stdout",
     "output_type": "stream",
     "text": [
      "['t', 'h', 'i', 's', ' ', 'i', 's', ' ', 'a', ' ', 'l', 'i', 's', 't', ' ', 'c', 'o', 'm', 'p', 'r', 'e', 'h', 'e', 'n', 's', 'i', 'o', 'n', '.']\n",
      "Execution time in seconds: 0.0010018348693847656\n"
     ]
    }
   ],
   "source": [
    "import time\n",
    "\n",
    "startTime = time.time()\n",
    "\n",
    "\n",
    "# List Comprehension [return_var if expression else expression for var in list]\n",
    "print([i for i in \"this is a list comprehension.\"])\n",
    "\n",
    "executionTime = (time.time() - startTime)\n",
    "print('Execution time in seconds: ' + str(executionTime))"
   ]
  },
  {
   "cell_type": "code",
   "execution_count": 44,
   "metadata": {},
   "outputs": [
    {
     "name": "stdout",
     "output_type": "stream",
     "text": [
      "[2, 5, 6, 8]\n",
      "Execution time in seconds: 0.0010008811950683594\n"
     ]
    }
   ],
   "source": [
    "import time\n",
    "\n",
    "startTime = time.time()\n",
    "\n",
    "\n",
    "# Insertion Sort\n",
    "def insertion_sort(a_list):\n",
    "    \"\"\"\n",
    "        Time Complexity: O(n**2)\n",
    "        Insertion sort has the time complexity of O(n**2) due to having a loop nested in a loop.\n",
    "        This means that the input scales up exponentially due to there being two iterations for each input.\n",
    "        Good for nearly sorted lists, and if a list is mostly already sorted, insertion sort can take as \n",
    "            less as O(n) to process.\n",
    "    \"\"\"\n",
    "    for i in range(1, len(a_list)):\n",
    "        value = a_list[i]\n",
    "        while i > 0 and a_list[i - 1] > value:\n",
    "            a_list[i] = a_list[i - 1]\n",
    "            i = i - 1\n",
    "        a_list[i] = value\n",
    "    return a_list\n",
    "\n",
    "myList = [6,5,8,2]\n",
    "print(insertion_sort(myList))\n",
    "\n",
    "executionTime = (time.time() - startTime)\n",
    "print('Execution time in seconds: ' + str(executionTime))"
   ]
  },
  {
   "cell_type": "code",
   "execution_count": 29,
   "metadata": {},
   "outputs": [
    {
     "name": "stdout",
     "output_type": "stream",
     "text": [
      "[2, 3, 6, 9]\n",
      "Execution time in seconds: 0.001001119613647461\n"
     ]
    }
   ],
   "source": [
    "import time\n",
    "\n",
    "startTime = time.time()\n",
    "\n",
    "\n",
    "# Merge Sort\n",
    "def merge_sort(a_list):\n",
    "    \"\"\"\n",
    "        Time Complexity: O(n*log n)\n",
    "        Merge sort is a divide-and-conquer algorithm, where one recursively breaks down a problem into smaller\n",
    "            subproblems that are easier to handle. In relation to a merge sort, a list is broken down into \n",
    "            sublists until each sublist is one item in length. This means that the sublists are actually already\n",
    "            sorted, and can be merged easily.\n",
    "        \n",
    "    \"\"\"\n",
    "    \n",
    "    # Section 1 ------------------------------------------------------------\n",
    "    if len(a_list) > 1:\n",
    "        mid = len(a_list) // 2\n",
    "        left_half = a_list[:mid]\n",
    "        right_half = a_list[mid:]\n",
    "        merge_sort(left_half) # Recursion\n",
    "        merge_sort(right_half) # Recursion - continue above operation until\n",
    "                               #     each sublist is one element.\n",
    "        \n",
    "        left_index = 0 # Each tracks index position\n",
    "        right_index = 0\n",
    "        alist_index = 0\n",
    "    # Section 1 ------------------------------------------------------------\n",
    "    \n",
    "    # Section 2 ------------------------------------------------------------\n",
    "        # Compares each first item in left_half to each first item in \n",
    "        #     right_half and puts the smaller number in the correct \n",
    "        #     index position in a_list\n",
    "        while left_index < len(left_half) and right_index < len(right_half):\n",
    "            if left_half[left_index] <= right_half[right_index]:\n",
    "                a_list[alist_index] = left_half[left_index]\n",
    "                left_index += 1\n",
    "            else:\n",
    "                a_list[alist_index] = right_half[right_index]\n",
    "                right_index += 1\n",
    "            alist_index += 1\n",
    "        \n",
    "        # Finishes the merge sort, and handles uneven merging of lists.\n",
    "        while left_index < len(left_half):\n",
    "            a_list[alist_index] = left_half[left_index]\n",
    "            left_index += 1\n",
    "            alist_index += 1\n",
    "            \n",
    "        while right_index < len(right_half):\n",
    "            a_list[alist_index] = right_half[right_index]\n",
    "            right_index += 1\n",
    "            alist_index += 1\n",
    "    # Section 2 ------------------------------------------------------------\n",
    "    return a_list\n",
    "\n",
    "myList = [6,3,9,2]\n",
    "print(merge_sort(myList))\n",
    "\n",
    "executionTime = (time.time() - startTime)\n",
    "print('Execution time in seconds: ' + str(executionTime))"
   ]
  }
 ],
 "metadata": {
  "kernelspec": {
   "display_name": "Python 3",
   "language": "python",
   "name": "python3"
  },
  "language_info": {
   "codemirror_mode": {
    "name": "ipython",
    "version": 3
   },
   "file_extension": ".py",
   "mimetype": "text/x-python",
   "name": "python",
   "nbconvert_exporter": "python",
   "pygments_lexer": "ipython3",
   "version": "3.8.5"
  }
 },
 "nbformat": 4,
 "nbformat_minor": 4
}
